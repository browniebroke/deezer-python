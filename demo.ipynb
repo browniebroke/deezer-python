{
 "cells": [
  {
   "metadata": {
    "trusted": true
   },
   "cell_type": "code",
   "source": "import deezer",
   "execution_count": 1,
   "outputs": []
  },
  {
   "metadata": {
    "trusted": true
   },
   "cell_type": "code",
   "source": "client = deezer.Client()",
   "execution_count": 2,
   "outputs": []
  },
  {
   "metadata": {
    "trusted": true
   },
   "cell_type": "code",
   "source": "client.get_album(680407).title",
   "execution_count": 3,
   "outputs": [
    {
     "output_type": "execute_result",
     "execution_count": 3,
     "data": {
      "text/plain": "'Monkey Business'"
     },
     "metadata": {}
    }
   ]
  },
  {
   "metadata": {
    "trusted": true
   },
   "cell_type": "code",
   "source": [
    "results = client.search(\"Black eyed peas\")"
   ],
   "execution_count": 4,
   "outputs": []
  },
  {
   "metadata": {
    "trusted": true
   },
   "cell_type": "code",
   "source": "top_result = results[0]\ntop_result",
   "execution_count": 5,
   "outputs": [
    {
     "output_type": "execute_result",
     "execution_count": 5,
     "data": {
      "text/plain": "<Track: I Gotta Feeling>"
     },
     "metadata": {}
    }
   ]
  },
  {
   "metadata": {
    "trusted": true
   },
   "cell_type": "code",
   "source": "top_result.type",
   "execution_count": 6,
   "outputs": [
    {
     "output_type": "execute_result",
     "execution_count": 6,
     "data": {
      "text/plain": "'track'"
     },
     "metadata": {}
    }
   ]
  },
  {
   "metadata": {
    "trusted": true
   },
   "cell_type": "code",
   "source": "bep = top_result.artist\nbep",
   "execution_count": 7,
   "outputs": [
    {
     "output_type": "execute_result",
     "execution_count": 7,
     "data": {
      "text/plain": "<Artist: Black Eyed Peas>"
     },
     "metadata": {}
    }
   ]
  },
  {
   "metadata": {
    "trusted": true
   },
   "cell_type": "code",
   "source": "bep.get_albums()",
   "execution_count": 8,
   "outputs": [
    {
     "output_type": "execute_result",
     "execution_count": 8,
     "data": {
      "text/plain": "[<Album: MASTERS OF THE SUN VOL. 1>,\n <Album: Invasion Of Imma Be Rocking That Body - Megamix E.P.>,\n <Album: The Beginning>,\n <Album: The Beginning (Deluxe)>,\n <Album: The Beginning & The Best Of The E.N.D. (International Mega-Deluxe Version)>,\n <Album: The Time (Dirty Bit)>,\n <Album: THE E.N.D. (THE ENERGY NEVER DIES) (International Version)>,\n <Album: Invasion Of I Gotta Feeling - Megamix E.P.>,\n <Album: THE E.N.D. (THE ENERGY NEVER DIES) (Deluxe Version)>,\n <Album: Invasion Of Meet Me Halfway - Megamix E.P.>,\n <Album: Invasion Of Meet Me Halfway - Megamix E.P. (International Version)>,\n <Album: Renegotiations: The Remixes>,\n <Album: Monkey Business>,\n <Album: Let's Get It Started>,\n <Album: Elephunk>,\n <Album: Bridging The Gap>,\n <Album: Behind The Front>,\n <Album: eXplosion>,\n <Album: Be Nice>,\n <Album: GET IT>,\n <Album: STREET LIVIN'>,\n <Album: #WHERESTHELOVE>,\n <Album: Rock That Body (International Version)>,\n <Album: I Gotta Feeling>,\n <Album: I Gotta Feeling (International Version)>]"
     },
     "metadata": {}
    }
   ]
  },
  {
   "metadata": {
    "trusted": true
   },
   "cell_type": "code",
   "source": "bep.get_radio()",
   "execution_count": 9,
   "outputs": [
    {
     "output_type": "execute_result",
     "execution_count": 9,
     "data": {
      "text/plain": "[<Track: RITMO (Bad Boys For Life)>,\n <Track: Baianá>,\n <Track: React>,\n <Track: Dance Monkey>,\n <Track: Titanium (feat. Sia)>,\n <Track: Promises>,\n <Track: Pump It>,\n <Track: Instagram>,\n <Track: Trampoline>,\n <Track: I Gotta Feeling>,\n <Track: One Kiss>,\n <Track: Me Gusta>,\n <Track: Tusa>,\n <Track: Loco Contigo>,\n <Track: Say My Name>,\n <Track: Where Is The Love?>,\n <Track: Lose Control>,\n <Track: Never Seen The Rain>,\n <Track: Que Calor (feat. J Balvin & El Alfa)>,\n <Track: China>,\n <Track: Taki Taki>,\n <Track: The Other Side (from Trolls World Tour)>,\n <Track: Piece Of Your Heart>,\n <Track: Turn Me On>,\n <Track: CAN'T STOP THE FEELING! (Original Song from DreamWorks Animation's \"TROLLS\")>]"
     },
     "metadata": {}
    }
   ]
  },
  {
   "metadata": {
    "trusted": true
   },
   "cell_type": "code",
   "source": "the_end = top_result.album\nthe_end",
   "execution_count": 10,
   "outputs": [
    {
     "output_type": "execute_result",
     "execution_count": 10,
     "data": {
      "text/plain": "<Album: THE E.N.D. (THE ENERGY NEVER DIES) (Deluxe Version)>"
     },
     "metadata": {}
    }
   ]
  },
  {
   "metadata": {
    "trusted": true
   },
   "cell_type": "code",
   "source": "the_end.get_tracks()",
   "execution_count": 11,
   "outputs": [
    {
     "output_type": "execute_result",
     "execution_count": 11,
     "data": {
      "text/plain": "[<Track: Boom Boom Pow (Album Version)>,\n <Track: Rock That Body (Album Version)>,\n <Track: Meet Me Halfway (Album Version)>,\n <Track: Imma Be>,\n <Track: I Gotta Feeling>,\n <Track: Alive (Album Version)>,\n <Track: Missing You (Album Version)>,\n <Track: Ring-A-Ling (Album Version)>,\n <Track: Party All The Time (Album Version)>,\n <Track: Out Of My Head (Album Version)>,\n <Track: Electric City (Album Version)>,\n <Track: Showdown (Album Version)>,\n <Track: Now Generation (Album Version)>,\n <Track: One Tribe (Album Version)>,\n <Track: Rockin To The Beat (Album Version)>,\n <Track: Where Ya Wanna Go (New Album Version)>,\n <Track: Simple Little Melody (Album Version)>,\n <Track: Mare (Album Version)>,\n <Track: Don't Bring Me Down (Album Version)>,\n <Track: Pump It Harder (Album Version)>,\n <Track: Let's Get Re-Started (Album Version)>,\n <Track: Shut The Phunk Up (New Album Version)>,\n <Track: That's The Joint (Album Version)>,\n <Track: Another Weekend (Album Version)>,\n <Track: Don't Phunk Around (Album Version)>]"
     },
     "metadata": {}
    }
   ]
  },
  {
   "metadata": {
    "trusted": true
   },
   "cell_type": "code",
   "source": "",
   "execution_count": null,
   "outputs": []
  }
 ],
 "metadata": {
  "kernelspec": {
   "name": "python3",
   "display_name": "Python 3",
   "language": "python"
  },
  "language_info": {
   "name": "python",
   "version": "3.7.6",
   "mimetype": "text/x-python",
   "codemirror_mode": {
    "name": "ipython",
    "version": 3
   },
   "pygments_lexer": "ipython3",
   "nbconvert_exporter": "python",
   "file_extension": ".py"
  }
 },
 "nbformat": 4,
 "nbformat_minor": 4
}
